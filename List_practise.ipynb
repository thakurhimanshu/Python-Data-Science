{
 "cells": [
  {
   "cell_type": "code",
   "execution_count": 7,
   "metadata": {},
   "outputs": [
    {
     "name": "stdout",
     "output_type": "stream",
     "text": [
      "['chacha', 'dada', 'mama', 'nana', 'papa']\n"
     ]
    }
   ],
   "source": [
    "# Write a program that creates a list of strings and then sorts the list alphabetically. Print the sorted list.\n",
    "lst1=[]\n",
    "for i in range(5):\n",
    "    lst=input(\"Enter the related strings\")\n",
    "    lst1.append(lst)\n",
    "\n",
    "lst1.sort()\n",
    "print(lst1)"
   ]
  },
  {
   "cell_type": "code",
   "execution_count": 9,
   "metadata": {},
   "outputs": [
    {
     "name": "stdout",
     "output_type": "stream",
     "text": [
      "[255, 86, 83, 65, 57, 46, 42, 37, 37, 25]\n"
     ]
    }
   ],
   "source": [
    "# Write a program that creates a list of integers and then finds the maximum value in the list. Print the maximum value\n",
    "st1=[]\n",
    "for i in range(10):\n",
    "    st=int(input(\"Enter the values\"))\n",
    "    st1.append(st)\n",
    "st1.sort(reverse=True)\n",
    "print(st1)"
   ]
  },
  {
   "cell_type": "code",
   "execution_count": 24,
   "metadata": {},
   "outputs": [
    {
     "name": "stdout",
     "output_type": "stream",
     "text": [
      "[2, 4, 6, 8, 10]\n"
     ]
    }
   ],
   "source": [
    "# Write a program that creates two lists of integers and then finds the common elements between those two lists. Print the common elements.\n",
    "\n",
    "chk1=[]\n",
    "chk2=[]\n",
    "for i in range(10):\n",
    "    el=int(input(\"enter the values for chk1\"))\n",
    "    chk1.append(el)\n",
    "for j in range(10):\n",
    "    fl=int(input(\"enter the values for chk2\"))\n",
    "    chk2.append(fl)\n",
    "c_elemnt=set(chk1) &  set(chk2)\n",
    "print(list(c_elemnt))\n",
    "    "
   ]
  },
  {
   "cell_type": "code",
   "execution_count": 30,
   "metadata": {},
   "outputs": [
    {
     "name": "stdout",
     "output_type": "stream",
     "text": [
      "21\n"
     ]
    }
   ],
   "source": [
    "# Write a program that creates a nested list and then accesses a specific element in the list. Print the accessed element.\n",
    "lst=[[12,32],[45,21],[55,87],[87,60]]\n",
    "print(lst[1][1])"
   ]
  },
  {
   "cell_type": "code",
   "execution_count": 2,
   "metadata": {},
   "outputs": [
    {
     "name": "stdout",
     "output_type": "stream",
     "text": [
      "789\n"
     ]
    }
   ],
   "source": [
    "# Write a program that creates a list of integers and then finds the maximum value in the list. Print the maximum value.\n",
    "check=[]\n",
    "for i in range(10):\n",
    "    lstt=int(input(\"enter the values\"))\n",
    "    check.append(lstt)\n",
    "    check.sort(reverse=True)\n",
    "    \n",
    "print(check[0])\n"
   ]
  },
  {
   "cell_type": "code",
   "execution_count": 7,
   "metadata": {},
   "outputs": [
    {
     "name": "stdout",
     "output_type": "stream",
     "text": [
      "['kushagara', 'david', 'muskan', 'rishita', 'maya']\n",
      "['david', 'rishita', 'maya']\n"
     ]
    }
   ],
   "source": [
    "# Write a program that creates a list of strings and then removes all elements that contain a specific substring. Print the final list.\n",
    "rem_str=input(\"Enter the Removal substr\")\n",
    "strx=[]\n",
    "for i in range(5):\n",
    "    str=input(\"Enter the following string\")\n",
    "    strx.append(str)\n",
    "print(strx)\n",
    "flt_lst=[i for i in strx if rem_str  not in i]\n",
    "print(flt_lst)\n",
    "\n",
    "    \n"
   ]
  },
  {
   "cell_type": "code",
   "execution_count": 11,
   "metadata": {},
   "outputs": [
    {
     "name": "stdout",
     "output_type": "stream",
     "text": [
      " the duplicate list is: [2, 2, 5, 6, 2, 7, 8, 7, 5, 9]\n",
      " the filtered list is:[2, 5, 6, 7, 8, 9]\n"
     ]
    }
   ],
   "source": [
    "# Write a program that creates a list of integers and then removes all duplicates from the list. Print the final list.\n",
    "dupl_lst=[]\n",
    "for i in range(10):\n",
    "    lst=int(input(\"Enter the integers\"))\n",
    "    dupl_lst.append(lst)\n",
    "print(f' the duplicate list is: {dupl_lst}')\n",
    "print(f' the filtered list is:{list(set(dupl_lst))}')"
   ]
  },
  {
   "cell_type": "code",
   "execution_count": 19,
   "metadata": {},
   "outputs": [
    {
     "name": "stdout",
     "output_type": "stream",
     "text": [
      "the inputted strings:➡️ ['Malthusian theory', 'Binomial Noman Cluther', 'Thiruvanthanampuram', 'Beyond the Matrix', 'Homosapiens Sapiens']\n",
      "the longest string:➡️ Binomial Noman Cluther\n"
     ]
    }
   ],
   "source": [
    "# Write a program that creates a list of strings and then finds the longest string in the list. Print the longest string.\n",
    "str1=[]\n",
    "for i in range(5):\n",
    "   str2=input(\"enter the strings\")\n",
    "   str1.append(str2)\n",
    "print(f'the inputted strings:➡️ {str1}')\n",
    "max=str1[0]\n",
    "for j in str1:\n",
    "    if len(j)>len(max):\n",
    "     max=j\n",
    "        \n",
    "print(f'the longest string:➡️ {max}')"
   ]
  },
  {
   "cell_type": "code",
   "execution_count": 26,
   "metadata": {},
   "outputs": [
    {
     "name": "stdout",
     "output_type": "stream",
     "text": [
      "[8888, 7896, 14569, 78369, 12359, 78888, 81456, 789630, 3333, 21401]\n",
      "[8888, 7896, 14569, 78369, 12359, 78888, 81456, 789630, 3333, 21401]\n",
      "966758\n"
     ]
    }
   ],
   "source": [
    "# Write a program that creates a list of integers and then finds the sum of all the even numbers in the list. Print the sum.\n",
    "l1=[]\n",
    "sum=0\n",
    "for i in range(10):\n",
    "    l2=int(input(\"Enter the Integers\"))\n",
    "    l1.append(l2)\n",
    "print(l1)\n",
    "for j in l1:\n",
    "    if j%2==0:\n",
    "     sum=sum+j\n",
    "print(l1)\n",
    "print(sum)"
   ]
  },
  {
   "cell_type": "code",
   "execution_count": 37,
   "metadata": {},
   "outputs": [
    {
     "name": "stdout",
     "output_type": "stream",
     "text": [
      "the range of values:➡️ [98, 45, 78, 123, 65]\n",
      "position of removal:➡️-3\n",
      "the filtered range is:➡️ [98, 45, 123, 65]\n"
     ]
    }
   ],
   "source": [
    "# Write a program that creates a list of integers and then asks the user to input a position to remove an element from the list. Print the final list.\n",
    "num=[]\n",
    "pos=int(input(\"Enter the value\"))\n",
    "for i in range (5):\n",
    "    n=int(input(\"Enter the integers\"))\n",
    "    num.append(n)\n",
    "print(f'the range of values:➡️ {num}')\n",
    "print(f'position of removal:➡️{pos}')\n",
    "num.pop(pos)\n",
    "print(f'the filtered range is:➡️ {num}')\n",
    "\n",
    "\n",
    "\n"
   ]
  },
  {
   "cell_type": "code",
   "execution_count": 3,
   "metadata": {},
   "outputs": [
    {
     "name": "stdout",
     "output_type": "stream",
     "text": [
      "honesty is the best policy\n"
     ]
    }
   ],
   "source": [
    "# Write a program that creates a list of strings and then concatenates all the strings into a single string. Print the final string\n",
    "a=[\"honesty\",\"is\",\"the\",\"best\",\"policy\"]\n",
    "b=\" \".join(a)\n",
    "print(b)\n"
   ]
  },
  {
   "cell_type": "code",
   "execution_count": 18,
   "metadata": {},
   "outputs": [
    {
     "name": "stdout",
     "output_type": "stream",
     "text": [
      "the sorted list of integer is :[10, 12, 22, 25, 33, 45, 56, 78, 78, 96]\n",
      "count value:10\n",
      "median is :39.0\n"
     ]
    }
   ],
   "source": [
    "# Write a program that creates a list of integers and then finds the median value of the list. Print the median.\n",
    "a=[]\n",
    "n=int(input(\"enter the value\"))\n",
    "for i in range(n):\n",
    "    z=int(input(\"enter the integers\"))\n",
    "    a.append(z)\n",
    "a.sort()\n",
    "print(f'the sorted list of integer is :{a}')\n",
    "print(f'count value:{n}')\n",
    "if len(a)%2!=0:\n",
    "    med=a[(len(a)-1)//2]\n",
    "    print(f'median is :{med}')\n",
    "elif len(a)%2==0:\n",
    "    middle1=a[len(a)//2-1]\n",
    "    middle2=a[len(a)//2]\n",
    "    med=(middle1+middle2)/2\n",
    "    print(f'median is :{med}')\n",
    "\n",
    "\n",
    "\n"
   ]
  },
  {
   "cell_type": "code",
   "execution_count": 21,
   "metadata": {},
   "outputs": [
    {
     "name": "stdout",
     "output_type": "stream",
     "text": [
      "['Sach ', 'keh', 'raha', 'hain', 'deewan']\n",
      "['deewan', 'hain', 'raha', 'keh', 'Sach ']\n"
     ]
    }
   ],
   "source": [
    "# Write a program that creates a list of strings and then reverses the order of the strings in the list. Print the reversed list.\n",
    "str1=[]\n",
    "for i in range(5):\n",
    "   str2=input(\"enter the strings\")\n",
    "   str1.append(str2)\n",
    "print(str1)\n",
    "print(str1[::-1])\n",
    "\n"
   ]
  },
  {
   "cell_type": "code",
   "execution_count": 16,
   "metadata": {},
   "outputs": [
    {
     "name": "stdout",
     "output_type": "stream",
     "text": [
      "[24, 88, 32, 55, 17, 19, 55]\n"
     ]
    },
    {
     "data": {
      "text/plain": [
       "[14, 78, 22]"
      ]
     },
     "execution_count": 16,
     "metadata": {},
     "output_type": "execute_result"
    }
   ],
   "source": [
    "# Write a program that uses a lambda expression and the map function to add 10 to each element in a list of integers. Print the new list.\n",
    "x=[14,78,22,45,7,9,45]\n",
    "z=list(map(lambda i:(i+10),x))\n",
    "print(z)\n",
    "list(filter(lambda e:e%2==0,x))\n"
   ]
  },
  {
   "cell_type": "code",
   "execution_count": 23,
   "metadata": {},
   "outputs": [
    {
     "name": "stdout",
     "output_type": "stream",
     "text": [
      "['Vanadium', 'Iodine', 'Selenium', 'Helium', 'Nitrogen', 'Uranium']\n",
      "['V', 'I', 'S', 'H', 'N', 'U']\n"
     ]
    }
   ],
   "source": [
    "# Write a program that uses the map function to create a new list that contains the first letter of each string in a user inputted list of strings\n",
    "strx=[]\n",
    "for i in range(6):\n",
    "    str=input(\"Enter the following string\")\n",
    "    strx.append(str)\n",
    "print(strx)\n",
    "init=list(map(lambda e: e[0],strx))\n",
    "print(init)\n"
   ]
  },
  {
   "cell_type": "code",
   "execution_count": 27,
   "metadata": {},
   "outputs": [
    {
     "data": {
      "text/plain": [
       "[1, 3, 4, 6, 9, 11]"
      ]
     },
     "execution_count": 27,
     "metadata": {},
     "output_type": "execute_result"
    }
   ],
   "source": [
    "# Write a program that uses a lambda expression and the map function to convert a list of strings to a list of integers. Print the new list.\n",
    "c=['1','3','4','6','9','11']\n",
    "list(map(int,c))\n"
   ]
  },
  {
   "cell_type": "code",
   "execution_count": 2,
   "metadata": {},
   "outputs": [
    {
     "name": "stdout",
     "output_type": "stream",
     "text": [
      "['my', 'name is ', 'the Great', 'Undertaker of WWE', 'Welcome in Monday Night Raw']\n"
     ]
    },
    {
     "data": {
      "text/plain": [
       "[2, 8, 9, 17, 27]"
      ]
     },
     "execution_count": 2,
     "metadata": {},
     "output_type": "execute_result"
    }
   ],
   "source": [
    "# Write a program that uses the map function to create a new list that contains the length of each string in a user inputted list of strings.\n",
    "lst=[]\n",
    "for i in range(5):\n",
    "    s=input(\"Enter the Strings\")\n",
    "    lst.append(s)\n",
    "print(lst)\n",
    "list(map(lambda e: len(e),lst))\n"
   ]
  },
  {
   "cell_type": "code",
   "execution_count": 12,
   "metadata": {},
   "outputs": [
    {
     "name": "stdout",
     "output_type": "stream",
     "text": [
      "[53, 22, 6, 144, 666, 353, 266, 121]\n"
     ]
    },
    {
     "data": {
      "text/plain": [
       "[7.280109889280518,\n",
       " 4.69041575982343,\n",
       " 2.449489742783178,\n",
       " 12.0,\n",
       " 25.80697580112788,\n",
       " 18.788294228055936,\n",
       " 16.30950643030009,\n",
       " 11.0]"
      ]
     },
     "execution_count": 12,
     "metadata": {},
     "output_type": "execute_result"
    }
   ],
   "source": [
    "# Write a program that uses a lambda expression and the map function to calculate the square root of each element in a list of integers. Print the new list.\n",
    "\n",
    "set1=[53,22,6,144,666,353,266,121]\n",
    "print(set1)\n",
    "list(map(lambda e: ((e**0.5)),set1))\n",
    "\n"
   ]
  },
  {
   "cell_type": "code",
   "execution_count": 14,
   "metadata": {},
   "outputs": [
    {
     "name": "stdout",
     "output_type": "stream",
     "text": [
      "5\n",
      "the original list:[-99, -84, -81, 36, 10]\n"
     ]
    },
    {
     "data": {
      "text/plain": [
       "[99, 84, 81, 36, 10]"
      ]
     },
     "execution_count": 14,
     "metadata": {},
     "output_type": "execute_result"
    }
   ],
   "source": [
    "# Write a program that uses a lambda expression and the map function to convert a list of integers to their absolute values. Print the new list.\n",
    "a=[]\n",
    "n=int(input(\"enter the value\"))\n",
    "for i in range(n):\n",
    "    z=int(input(\"enter the integers\"))\n",
    "    a.append(z)\n",
    "print(n)\n",
    "print(f'the original list:{a}')\n",
    "list(map(lambda i: abs(i),a))\n"
   ]
  },
  {
   "cell_type": "code",
   "execution_count": 16,
   "metadata": {},
   "outputs": [
    {
     "name": "stdout",
     "output_type": "stream",
     "text": [
      "['chand-taare', 'tod laaon', 'saari duniya', 'jeet jaaon', 'bas itna sa khwaab hain😇', 'srk!!!!']\n"
     ]
    },
    {
     "data": {
      "text/plain": [
       "['CHAND-TAARE',\n",
       " 'TOD LAAON',\n",
       " 'SAARI DUNIYA',\n",
       " 'JEET JAAON',\n",
       " 'BAS ITNA SA KHWAAB HAIN😇',\n",
       " 'SRK!!!!']"
      ]
     },
     "execution_count": 16,
     "metadata": {},
     "output_type": "execute_result"
    }
   ],
   "source": [
    "# Write a program that uses the map function to create a new list that contains the uppercase version of each string in a user inputted list of strings.\n",
    "strx=[]\n",
    "for i in range(6):\n",
    "    str=input(\"Enter the following string\")\n",
    "    strx.append(str)\n",
    "print(strx)\n",
    "list(map(lambda e: e.upper(),strx))\n"
   ]
  },
  {
   "cell_type": "code",
   "execution_count": 17,
   "metadata": {},
   "outputs": [
    {
     "name": "stdout",
     "output_type": "stream",
     "text": [
      "[14, 78, 22, 45, 7, 9, 45]\n"
     ]
    },
    {
     "data": {
      "text/plain": [
       "[14, 78, 22]"
      ]
     },
     "execution_count": 17,
     "metadata": {},
     "output_type": "execute_result"
    }
   ],
   "source": [
    "# Write a program that uses the filter function to create a new list that contains only the even numbers from a user inputted list of integers.\n",
    "k=[14,78,22,45,7,9,45]\n",
    "print(k)\n",
    "list(filter(lambda e:e%2==0,k))"
   ]
  },
  {
   "cell_type": "code",
   "execution_count": 3,
   "metadata": {},
   "outputs": [
    {
     "name": "stdout",
     "output_type": "stream",
     "text": [
      "['visheshwar', 'Anantnaag', 'erakullam', 'thirucchapalli', 'amar']\n"
     ]
    },
    {
     "data": {
      "text/plain": [
       "['Anantnaag', 'erakullam', 'amar']"
      ]
     },
     "execution_count": 3,
     "metadata": {},
     "output_type": "execute_result"
    }
   ],
   "source": [
    "# Write a program that uses a lambda expression and the filter function to create a new list that contains only the strings that start with a vowel from a user inputted list of strings.\n",
    "lst=[]\n",
    "for i in range(5):\n",
    "    s=input(\"Enter the Strings\")\n",
    "    lst.append(s)\n",
    "print(lst)\n",
    "list(filter(lambda i: i[0] in 'aeiouAEIOU',lst))"
   ]
  },
  {
   "cell_type": "code",
   "execution_count": 5,
   "metadata": {},
   "outputs": [
    {
     "name": "stdout",
     "output_type": "stream",
     "text": [
      "['Hello', 'my', 'name ', 'is', 'Kushagra']\n"
     ]
    },
    {
     "data": {
      "text/plain": [
       "['Kushagra']"
      ]
     },
     "execution_count": 5,
     "metadata": {},
     "output_type": "execute_result"
    }
   ],
   "source": [
    "# Write a program that uses the filter function to create a new list that contains only the strings with a length greater than 5 from a user inputted list of strings\n",
    "lst=[]\n",
    "for i in range(5):\n",
    "    s=input(\"Enter the Strings\")\n",
    "    lst.append(s)\n",
    "print(lst)\n",
    "list(filter(lambda i: len(i)>5 ,lst))"
   ]
  },
  {
   "cell_type": "code",
   "execution_count": 7,
   "metadata": {},
   "outputs": [
    {
     "name": "stdout",
     "output_type": "stream",
     "text": [
      "[-99, 14, -89, -66, -39]\n"
     ]
    },
    {
     "data": {
      "text/plain": [
       "[14]"
      ]
     },
     "execution_count": 7,
     "metadata": {},
     "output_type": "execute_result"
    }
   ],
   "source": [
    "# Write a program that uses a lambda expression and the filter function to create a new list that contains only the positive numbers from a user inputted list of integers.\n",
    "num=[]\n",
    "for i in range(5):\n",
    "    s=int(input(\"Enter the Values\"))\n",
    "    num.append(s)\n",
    "print(num)\n",
    "list(filter(lambda i: i>0 ,num))"
   ]
  },
  {
   "cell_type": "code",
   "execution_count": 8,
   "metadata": {},
   "outputs": [
    {
     "name": "stdout",
     "output_type": "stream",
     "text": [
      "['thiruvanthanampuram', 'Kerala', 'Mehagalaya', 'Jaipur', 'UttarPradesh']\n"
     ]
    },
    {
     "data": {
      "text/plain": [
       "['Kerala', 'Mehagalaya', 'UttarPradesh']"
      ]
     },
     "execution_count": 8,
     "metadata": {},
     "output_type": "execute_result"
    }
   ],
   "source": [
    "# Write a program that uses the filter function to create a new list that contains only the strings that contain the letter \"e\" from a user inputted list of strings.\n",
    "lst=[]\n",
    "for i in range(5):\n",
    "    s=input(\"Enter the Strings\")\n",
    "    lst.append(s)\n",
    "print(lst)\n",
    "list(filter(lambda i: 'e' in i ,lst))"
   ]
  },
  {
   "cell_type": "code",
   "execution_count": null,
   "metadata": {},
   "outputs": [],
   "source": []
  }
 ],
 "metadata": {
  "kernelspec": {
   "display_name": "Python 3",
   "language": "python",
   "name": "python3"
  },
  "language_info": {
   "codemirror_mode": {
    "name": "ipython",
    "version": 3
   },
   "file_extension": ".py",
   "mimetype": "text/x-python",
   "name": "python",
   "nbconvert_exporter": "python",
   "pygments_lexer": "ipython3",
   "version": "3.12.3"
  }
 },
 "nbformat": 4,
 "nbformat_minor": 2
}
