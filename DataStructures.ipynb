{
 "cells": [
  {
   "cell_type": "code",
   "execution_count": null,
   "metadata": {},
   "outputs": [],
   "source": []
  },
  {
   "cell_type": "markdown",
   "metadata": {},
   "source": [
    " Data Structures\n",
    "\n",
    "List>> indexed DS : ordered DS : Mutable : heterogenous(mixed values can be kept): have duplicates : just values:  []:  list()\n",
    "tuple>>indexed DS : ordered DS : immutable: heterogenous(mixed values can be kept): have duplicate: just values: (): tuple()\n",
    "set>> unindexed DS : Unordered DS: mutable: heterogenous(mixed values can be kept): Only unique values :just values: {}: set()\n",
    "dictionary>> unindexed DS : Ordered DS : mutable: heterogenous(mixed values can be kept): have duplicate: works in Key- value pairs: {}: dict()"
   ]
  },
  {
   "cell_type": "markdown",
   "metadata": {},
   "source": [
    "#List\n",
    "- creating\n",
    "- indexing n slicing (same as string)\n",
    "- comprehension"
   ]
  },
  {
   "cell_type": "code",
   "execution_count": 4,
   "metadata": {},
   "outputs": [
    {
     "name": "stdout",
     "output_type": "stream",
     "text": [
      "[]\n",
      "[1, 2, 3, 4]\n",
      "[1, 'apple', 2, 'mango']\n",
      "[[1, 2, 3], [4, 5, 6]]\n",
      "[[1, 'apple'], [2, 'banana']]\n",
      "['kush', 'lucknow']\n"
     ]
    }
   ],
   "source": [
    "a=[] #empty list\n",
    "b=[1,2,3,4] #numeric list\n",
    "c=[1,'apple',2,'mango'] #mixed list\n",
    "d=[[1,2,3],[4,5,6]] #list of list\n",
    "e=[[1,\"apple\"],[2,\"banana\"]] #mixed nested list\n",
    "f=['kush','lucknow'] #string list\n",
    "print(a)\n",
    "print(b)\n",
    "print(c)\n",
    "print(d)\n",
    "print(e)\n",
    "print(f)\n"
   ]
  },
  {
   "cell_type": "code",
   "execution_count": 3,
   "metadata": {},
   "outputs": [
    {
     "name": "stdout",
     "output_type": "stream",
     "text": [
      "[1, 'apple']\n",
      "[2, 'banana']\n"
     ]
    }
   ],
   "source": [
    "for i in e: #data traversal\n",
    "    print(i)"
   ]
  },
  {
   "cell_type": "code",
   "execution_count": 1,
   "metadata": {},
   "outputs": [
    {
     "name": "stdout",
     "output_type": "stream",
     "text": [
      "['h', 'e', 'l', 'l', 'o']\n",
      "[0, 1, 2, 3, 4, 5, 6, 7, 8, 9]\n",
      "[0.5, 0.5, 0.5, 0.5, 0.5, 0.5, 0.5, 0.5, 0.5, 0.5]\n"
     ]
    }
   ],
   "source": [
    "g=list('hello')\n",
    "h=list(range(10))\n",
    "i=[0.5]*10  #duplicated list\n",
    "print(g)\n",
    "print(h)\n",
    "print(i)\n"
   ]
  },
  {
   "cell_type": "code",
   "execution_count": 3,
   "metadata": {},
   "outputs": [
    {
     "name": "stdout",
     "output_type": "stream",
     "text": [
      "['Aparichit', 'koi mil gya', 'om shanti om', 'PK']\n",
      "I\n",
      "['I', 'PK', 'om shanti om', 'koi mil gya', 'Aparichit']\n"
     ]
    }
   ],
   "source": [
    "movies=['Aparichit','koi mil gya','om shanti om','PK','I']\n",
    "print(movies[0:len(movies)-1])\n",
    "print(movies[-1]) #last item\n",
    "print(movies[::-1])\n"
   ]
  },
  {
   "cell_type": "code",
   "execution_count": 23,
   "metadata": {},
   "outputs": [
    {
     "name": "stdout",
     "output_type": "stream",
     "text": [
      "[1, 2, 3, 4, 5]\n",
      "[1, 2, 3, 4, 5, 6, 7]\n",
      "[5, 6]\n",
      "[10, 9, 8, 7, 6, 5, 4, 3, 2, 1]\n"
     ]
    }
   ],
   "source": [
    "number=[1,2,3,4,5,6,7,8,9,10]\n",
    "print(number[0:5])\n",
    "print(number[:-3])\n",
    "print(number[4:-4]) \n",
    "print(number[::-1])"
   ]
  },
  {
   "cell_type": "markdown",
   "metadata": {},
   "source": [
    "- #list method (11)\n",
    "⬇️⬇️⬇️⬇️⬇️⬇️⬇️⬇️⬇️\n",
    "\n",
    "- adding/updating\n",
    "  -'append()'\n",
    "  -'extend()'\n",
    "  - 'insert()\n",
    "\n",
    "- removal/deletion\n",
    "  - 'remove()'\n",
    "  - 'pop()'\n",
    "  - 'clear()'\n",
    "\n",
    "- utility\n",
    " - sort()\n",
    " - reverse()\n",
    " - index()\n",
    " - count()\n",
    " - copy()"
   ]
  },
  {
   "cell_type": "code",
   "execution_count": 2,
   "metadata": {},
   "outputs": [
    {
     "name": "stdout",
     "output_type": "stream",
     "text": [
      "fav book:  ['', 'harry potter and the goblet of fire', 'Spiderman :Home coming', 'Jumanji', 'geography ny Savinder singh']\n",
      "hated book:  ['Polity by M.Laxmikant', 'Jacobian', 'Chronicles of Narnia']\n"
     ]
    }
   ],
   "source": [
    "fav_book=[]\n",
    "hated_book=[]\n",
    "for i in range(5):\n",
    "    book=input(\"Input your fav book:\")\n",
    "    fav_book.append(book)\n",
    "for i in range(3):\n",
    "    book=input(\"Input your hated book:\")\n",
    "    hated_book.append(book)\n",
    "\n",
    "print(\"fav book: \",fav_book)\n",
    "print(\"hated book: \",hated_book)\n"
   ]
  },
  {
   "cell_type": "code",
   "execution_count": 27,
   "metadata": {},
   "outputs": [
    {
     "name": "stdout",
     "output_type": "stream",
     "text": [
      "['Hell in the Cell', 'Jacobian', 'Narnia Chronicles', 'ikagai']\n"
     ]
    }
   ],
   "source": [
    "hated_book.append(\"ikagai\")\n",
    "print(hated_book)"
   ]
  },
  {
   "cell_type": "code",
   "execution_count": 5,
   "metadata": {},
   "outputs": [
    {
     "name": "stdout",
     "output_type": "stream",
     "text": [
      "['', 'harry potter and the goblet of fire', 'Spiderman :Home coming', 'Jumanji', 'geography ny Savinder singh', 'Polity by M.Laxmikant', 'Jacobian', 'Chronicles of Narnia']\n"
     ]
    }
   ],
   "source": [
    "#merging of lists and create a new list\n",
    "books=fav_book+hated_book\n",
    "print(books)"
   ]
  },
  {
   "cell_type": "code",
   "execution_count": 6,
   "metadata": {},
   "outputs": [
    {
     "name": "stdout",
     "output_type": "stream",
     "text": [
      "['', 'harry potter and the goblet of fire', 'Spiderman :Home coming', 'Jumanji', 'geography ny Savinder singh', 'Polity by M.Laxmikant', 'Jacobian', 'Chronicles of Narnia', 'hatim', 'Ali baba 40 chor', 'Aladdin']\n",
      "The count of Books : 11\n"
     ]
    }
   ],
   "source": [
    "#adding a list to the existing list\n",
    "books.extend(['hatim','Ali baba 40 chor','Aladdin'])\n",
    "print(books)\n",
    "print(\"The count of Books :\",len(books))"
   ]
  },
  {
   "cell_type": "code",
   "execution_count": 8,
   "metadata": {},
   "outputs": [
    {
     "name": "stdout",
     "output_type": "stream",
     "text": [
      "['', 'harry potter and the goblet of fire', 'Spiderman :Home coming', 'Jumanji', 'geography ny Savinder singh', 'Polity by M.Laxmikant', 'Jacobian', 'Chronicles of Narnia', 'hatim', 'Ali baba 40 chor', 'Aladdin', 'Jalaikattu', 'Jalaikattu']\n"
     ]
    }
   ],
   "source": [
    "# books.append([\"marino\",\"jacobian\"]) #nested type\n",
    "# print(books)\n",
    "books.append(\"Jalaikattu\")\n",
    "print(books)\n"
   ]
  },
  {
   "cell_type": "code",
   "execution_count": 10,
   "metadata": {},
   "outputs": [
    {
     "name": "stdout",
     "output_type": "stream",
     "text": [
      "['Aghori', '', 'harry potter and the goblet of fire', 'Spiderman :Home coming', 'Jumanji', 'geography ny Savinder singh', 'Polity by M.Laxmikant', 'Jacobian', 'Alchemist', 'Chronicles of Narnia', 'hatim', 'Ali baba 40 chor', 'Aladdin', 'Jalaikattu', 'Jalaikattu']\n"
     ]
    }
   ],
   "source": [
    "books.insert(0,\"Aghori\")\n",
    "print(books)"
   ]
  },
  {
   "cell_type": "code",
   "execution_count": 11,
   "metadata": {},
   "outputs": [
    {
     "data": {
      "text/plain": [
       "['Aghori',\n",
       " '',\n",
       " 'harry potter and the goblet of fire',\n",
       " 'Spiderman :Home coming',\n",
       " 'Jumanji',\n",
       " 'geography ny Savinder singh',\n",
       " 'Polity by M.Laxmikant',\n",
       " 'Jacobian',\n",
       " 'Alchemist',\n",
       " 'Chronicles of Narnia',\n",
       " 'hatim',\n",
       " 'Ali baba 40 chor',\n",
       " 'Aladdin',\n",
       " 'Jalaikattu',\n",
       " 'Jalaikattu']"
      ]
     },
     "execution_count": 11,
     "metadata": {},
     "output_type": "execute_result"
    }
   ],
   "source": [
    "books"
   ]
  },
  {
   "cell_type": "code",
   "execution_count": 14,
   "metadata": {},
   "outputs": [
    {
     "name": "stdout",
     "output_type": "stream",
     "text": [
      "['Aghori', 'Game of Thrones', 'harry potter and the goblet of fire', 'Spiderman :Home coming', 'Jumanji', 'geography ny Savinder singh', 'Polity by M.Laxmikant', 'Jacobian', 'Alchemist', 'Chronicles of Narnia', 'hatim', 'Ali baba 40 chor', 'Aladdin', 'Jalaikattu', 'Pushpa Raj']\n"
     ]
    }
   ],
   "source": [
    "#replace\n",
    "books[1]=\"Game of Thrones\"\n",
    "books[-1]=\"Pushpa Raj\"\n",
    "print(books)"
   ]
  },
  {
   "cell_type": "code",
   "execution_count": 15,
   "metadata": {},
   "outputs": [
    {
     "data": {
      "text/plain": [
       "['Aghori',\n",
       " 'Game of Thrones',\n",
       " 'harry potter and the goblet of fire',\n",
       " 'Spiderman :Home coming',\n",
       " 'Jumanji',\n",
       " 'geography ny Savinder singh',\n",
       " 'Polity by M.Laxmikant',\n",
       " 'Alchemist',\n",
       " 'Chronicles of Narnia',\n",
       " 'hatim',\n",
       " 'Ali baba 40 chor',\n",
       " 'Aladdin',\n",
       " 'Jalaikattu',\n",
       " 'Pushpa Raj']"
      ]
     },
     "execution_count": 15,
     "metadata": {},
     "output_type": "execute_result"
    }
   ],
   "source": [
    "# remove(): value Based removal\n",
    "# pop(): index based removal\n",
    "books.remove(\"Jacobian\")\n",
    "books"
   ]
  },
  {
   "cell_type": "code",
   "execution_count": 17,
   "metadata": {},
   "outputs": [
    {
     "data": {
      "text/plain": [
       "'geography ny Savinder singh'"
      ]
     },
     "execution_count": 17,
     "metadata": {},
     "output_type": "execute_result"
    }
   ],
   "source": [
    "books.pop(5)\n"
   ]
  },
  {
   "cell_type": "code",
   "execution_count": 18,
   "metadata": {},
   "outputs": [
    {
     "data": {
      "text/plain": [
       "'Jalaikattu'"
      ]
     },
     "execution_count": 18,
     "metadata": {},
     "output_type": "execute_result"
    }
   ],
   "source": [
    "books.pop() #directly removes the last element"
   ]
  },
  {
   "cell_type": "code",
   "execution_count": 45,
   "metadata": {},
   "outputs": [
    {
     "name": "stdout",
     "output_type": "stream",
     "text": [
      "[]\n"
     ]
    }
   ],
   "source": [
    "hated_book.clear() #remove all the elements\n",
    "print(hated_book)\n"
   ]
  },
  {
   "cell_type": "markdown",
   "metadata": {},
   "source": [
    "# WAP  to create an emptylist , then fill the list with 10 prime numbers using a loop starting with 2\n"
   ]
  },
  {
   "cell_type": "code",
   "execution_count": 8,
   "metadata": {},
   "outputs": [
    {
     "name": "stdout",
     "output_type": "stream",
     "text": [
      "[2, 3, 4, 5, 6, 7, 8, 9, 10, 11, 12, 13]\n",
      "3\n",
      "5\n",
      "7\n",
      "9\n",
      "11\n",
      "13\n"
     ]
    }
   ],
   "source": [
    "num=int(input(\"enter the value\"))\n",
    "lst=[]\n",
    "for i in range(2,num):\n",
    "   lst.append(i)\n",
    "print(lst)\n",
    "for j in lst:\n",
    "   if j%2==0:\n",
    "      continue\n",
    "   print(j)\n",
    "\n",
    "\n",
    "   \n",
    "\n",
    "   \n",
    "\n",
    "\n"
   ]
  },
  {
   "cell_type": "code",
   "execution_count": 9,
   "metadata": {},
   "outputs": [],
   "source": [
    "numbers=[12,85,78,69,14,77,32,98]\n",
    "numbers.reverse() #changes the orignal list"
   ]
  },
  {
   "cell_type": "code",
   "execution_count": 10,
   "metadata": {},
   "outputs": [
    {
     "name": "stdout",
     "output_type": "stream",
     "text": [
      "[98, 32, 77, 14, 69, 78, 85, 12]\n"
     ]
    }
   ],
   "source": [
    "print(numbers)"
   ]
  },
  {
   "cell_type": "code",
   "execution_count": 11,
   "metadata": {},
   "outputs": [
    {
     "name": "stdout",
     "output_type": "stream",
     "text": [
      "[98, 32, 77, 14, 69, 78, 85, 12]\n"
     ]
    }
   ],
   "source": [
    "numbers=[12,85,78,69,14,77,32,98]\n",
    "a=numbers[::-1]\n",
    "print(a)"
   ]
  },
  {
   "cell_type": "code",
   "execution_count": 13,
   "metadata": {},
   "outputs": [
    {
     "name": "stdout",
     "output_type": "stream",
     "text": [
      "[12, 14, 32, 69, 77, 78, 85, 98]\n",
      "[98, 85, 78, 77, 69, 32, 14, 12]\n"
     ]
    }
   ],
   "source": [
    "numbers.sort() #ascending, changes the order list\n",
    "print(numbers)\n",
    "numbers.sort(reverse=True) #descending\n",
    "print(numbers)"
   ]
  },
  {
   "cell_type": "code",
   "execution_count": 5,
   "metadata": {},
   "outputs": [
    {
     "name": "stdout",
     "output_type": "stream",
     "text": [
      "[[1, 12], [2, 5], [4, 15], [5, 10]]\n"
     ]
    }
   ],
   "source": [
    "x=[[1,12],[2,5],[5,10],[4,15]]\n",
    "x.sort() #sort by the first element\n",
    "print(x)"
   ]
  },
  {
   "cell_type": "code",
   "execution_count": 15,
   "metadata": {},
   "outputs": [
    {
     "name": "stdout",
     "output_type": "stream",
     "text": [
      "[[2, 5], [5, 10], [1, 12], [4, 15]]\n"
     ]
    }
   ],
   "source": [
    "x.sort(key=lambda e: e[1]) #sort by the second element\n",
    "print(x)"
   ]
  },
  {
   "cell_type": "code",
   "execution_count": 6,
   "metadata": {},
   "outputs": [
    {
     "name": "stdout",
     "output_type": "stream",
     "text": [
      "[[2, 5], [1, 12], [5, 10], [4, 15]]\n"
     ]
    }
   ],
   "source": [
    "x.sort(key=lambda i: sum(i))\n",
    "print(x)"
   ]
  },
  {
   "cell_type": "code",
   "execution_count": 17,
   "metadata": {},
   "outputs": [
    {
     "name": "stdout",
     "output_type": "stream",
     "text": [
      "[('Alice', 25), ('Bob', 19), ('Alex', 26)]\n"
     ]
    }
   ],
   "source": [
    "users=[('Alice',25),('Bob',19),('Alex',26)]\n",
    "x.sort()\n",
    "print(users)"
   ]
  },
  {
   "cell_type": "code",
   "execution_count": 1,
   "metadata": {},
   "outputs": [
    {
     "name": "stdout",
     "output_type": "stream",
     "text": [
      "[['headphone', 1500, 2], ['watch', 3000, 3], ['mobile', 25000, 2], ['laptop', 60000, 1]]\n"
     ]
    }
   ],
   "source": [
    "cart=[['mobile',25000,2],\n",
    "      ['laptop',60000,1],\n",
    "      ['watch',3000,3],\n",
    "      ['headphone',1500,2]]\n",
    "cart.sort(key=lambda e:e[1])\n",
    "\n",
    "\n",
    "print(cart)"
   ]
  },
  {
   "cell_type": "code",
   "execution_count": 22,
   "metadata": {},
   "outputs": [
    {
     "name": "stdout",
     "output_type": "stream",
     "text": [
      "[['headphone', 1500, 2], ['watch', 3000, 3], ['mobile', 25000, 2], ['laptop', 60000, 1]]\n"
     ]
    }
   ],
   "source": [
    "cart.sort(key=lambda e:e[1]*e[2]) #stored in memory \n",
    "print(cart)"
   ]
  },
  {
   "cell_type": "code",
   "execution_count": 24,
   "metadata": {},
   "outputs": [
    {
     "name": "stdout",
     "output_type": "stream",
     "text": [
      "2\n"
     ]
    }
   ],
   "source": [
    "#count function\n",
    "a=[1,8,8,9,1,5,8,9]\n",
    "d=a.count(1)\n",
    "print(d)"
   ]
  },
  {
   "cell_type": "code",
   "execution_count": 25,
   "metadata": {},
   "outputs": [
    {
     "data": {
      "text/plain": [
       "7"
      ]
     },
     "execution_count": 25,
     "metadata": {},
     "output_type": "execute_result"
    }
   ],
   "source": [
    "numbers.index(12) #give the index of 12 (first occurance)"
   ]
  },
  {
   "cell_type": "code",
   "execution_count": 31,
   "metadata": {},
   "outputs": [
    {
     "name": "stdout",
     "output_type": "stream",
     "text": [
      "[1, 2, 3, 4, 5]\n",
      "[1, 2, 3, 4, 5]\n",
      "[1, 2, 3, 4, 5]\n",
      "[1, 2, 3, 4, 5, 10, 9]\n",
      "[1, 2, 3, 4, 5, 6]\n",
      "[1, 2, 3, 4, 5, 10, 9]\n"
     ]
    }
   ],
   "source": [
    "a=[1,2,3,4,5]\n",
    "b=a.copy() #shallow copy\n",
    "c=a  #reference copy\n",
    "print(a)\n",
    "print(b)\n",
    "print(c)\n",
    "a.append(10)\n",
    "b.append(6)\n",
    "c.append(9)\n",
    "print(a)\n",
    "print(b)\n",
    "print(c)"
   ]
  },
  {
   "cell_type": "code",
   "execution_count": 40,
   "metadata": {},
   "outputs": [
    {
     "name": "stdout",
     "output_type": "stream",
     "text": [
      "[1, 9, 4, 49]\n",
      "[1, 9, 4, 49]\n"
     ]
    }
   ],
   "source": [
    "#Comprehension\n",
    "x=[1,3,2,7]\n",
    "x2=[]\n",
    "for i in x:\n",
    "#     s=i**2\n",
    "#     x2.append(s)\n",
    "# print(x2)\n",
    "\n",
    " x2=list(map(lambda i:i**2,x)) #lambda and map\n",
    "print(x2)\n",
    "\n",
    "x2=[i**2 for i in x]  #comprehension method specific to list\n",
    "print(x2)"
   ]
  },
  {
   "cell_type": "markdown",
   "metadata": {},
   "source": [
    "new list=[operation  loop  conditions(optional) ] >> comprehension"
   ]
  },
  {
   "cell_type": "code",
   "execution_count": 45,
   "metadata": {},
   "outputs": [
    {
     "name": "stdout",
     "output_type": "stream",
     "text": [
      "[-4, -1, 1, 2, 3]\n",
      "[16, 36, 64]\n"
     ]
    }
   ],
   "source": [
    "b=[1,4,6,7,8,]\n",
    "b5=[i-5 for i in b ]\n",
    "print(b5)\n",
    "aeven=[i**2 for i in b if i%2==0]\n",
    "print(aeven)\n"
   ]
  },
  {
   "cell_type": "code",
   "execution_count": 51,
   "metadata": {},
   "outputs": [
    {
     "name": "stdout",
     "output_type": "stream",
     "text": [
      "['as', 'bb', 'cg', 'dw']\n",
      "['aw', 'bw', 'cw', 'dw']\n"
     ]
    }
   ],
   "source": [
    "init=[]\n",
    "names=['alice smith','bob brown','charlie green','david white']\n",
    "for n in names:\n",
    "    part=n.split()\n",
    "    init.append(f\"{n.split()[0][0]}{n.split()[1][0]}\")\n",
    "print(init)\n",
    "\n",
    "#comprehension\n",
    "init=[f\"{i.split()[0][0]}{n.split()[1][0]}\" for i in names]\n",
    "print(init)\n",
    "\n"
   ]
  },
  {
   "cell_type": "markdown",
   "metadata": {},
   "source": [
    "#Tuple: Data cant be manipulated / in a packing form\n",
    "- create\n",
    "- indexing and slicing\n",
    "- methods\n",
    "- packing and unpacking"
   ]
  },
  {
   "cell_type": "code",
   "execution_count": 3,
   "metadata": {},
   "outputs": [
    {
     "name": "stdout",
     "output_type": "stream",
     "text": [
      "((1, 2), (4, 5), (9, 8))\n",
      "(('a', 2), ('b', 5), ('c', 8))\n",
      "('s', 'e', 'c', 'u', 'l', 'a', 'r', 'i', 's', 'm', ' ', 'i', 's', ' ', 't', 'h', 'e', ' ', 'e', 'l', 'e', 'm', 'e', 'n', 't', ' ', 'o', 'f', ' ', 'd', 'e', 'm', 'o', 'c', 'r', 'a', 'c', 'y')\n",
      "(0, 1, 2, 3, 4, 5, 6, 7, 8, 9)\n",
      "()\n",
      "(1,)\n",
      "(1, 2, 3, 4, 5)\n"
     ]
    }
   ],
   "source": [
    "x=()\n",
    "y=(1,)    # >> #single element tuple\n",
    "z=(1,2,3,4,5)\n",
    "a=((1,2),(4,5),(9,8))\n",
    "b=(('a',2),('b',5),('c',8))\n",
    "c=tuple('secularism is the element of democracy')\n",
    "d=tuple(range(10))\n",
    "print(a)\n",
    "print(b)\n",
    "print(c)\n",
    "print(d)\n",
    "print(x)\n",
    "print(y)\n",
    "print(z)\n"
   ]
  },
  {
   "cell_type": "code",
   "execution_count": 9,
   "metadata": {},
   "outputs": [
    {
     "name": "stdout",
     "output_type": "stream",
     "text": [
      "(0, 1, 2, 3, 4, 5, 6, 7, 8, 9)\n",
      "(6, 5, 4, 3, 2, 1, 0)\n",
      "(4, 5, 6, 7, 8, 9)\n"
     ]
    }
   ],
   "source": [
    "print(d)\n",
    "print(d[6::-1])\n",
    "print(d[4:])"
   ]
  },
  {
   "cell_type": "markdown",
   "metadata": {},
   "source": [
    "# index(search) and count methods  (the only method used in tuple) <python treat everything as tuple>"
   ]
  },
  {
   "cell_type": "code",
   "execution_count": 8,
   "metadata": {},
   "outputs": [
    {
     "name": "stdout",
     "output_type": "stream",
     "text": [
      "0\n",
      "1\n",
      "1\n"
     ]
    }
   ],
   "source": [
    "fruits=[\"apple\",\"banana\",\"litchi\",\"banana\",\"mango\"]\n",
    "print(fruits.index('apple'))\n",
    "print(fruits.count('apple'))\n",
    "print(fruits.index('banana',1))\n"
   ]
  },
  {
   "cell_type": "code",
   "execution_count": 10,
   "metadata": {},
   "outputs": [
    {
     "name": "stdout",
     "output_type": "stream",
     "text": [
      "(1, 2, 3)\n"
     ]
    }
   ],
   "source": [
    "x=1,2,3\n",
    "print(x)"
   ]
  },
  {
   "cell_type": "code",
   "execution_count": 12,
   "metadata": {},
   "outputs": [],
   "source": [
    "def stats(*data):\n",
    "    total=sum(data)\n",
    "    avg=total/len(data)\n",
    "    return total,round(avg,2)"
   ]
  },
  {
   "cell_type": "code",
   "execution_count": 13,
   "metadata": {},
   "outputs": [
    {
     "name": "stdout",
     "output_type": "stream",
     "text": [
      "(427, 53.38)\n"
     ]
    }
   ],
   "source": [
    "a=stats(14,56,32,78,99,41,52,55)\n",
    "print(a)"
   ]
  },
  {
   "cell_type": "code",
   "execution_count": 14,
   "metadata": {},
   "outputs": [
    {
     "name": "stdout",
     "output_type": "stream",
     "text": [
      "12 45\n"
     ]
    }
   ],
   "source": [
    "a,b=12,45 #k/a tuple unpacking\n",
    "print(a,b)"
   ]
  },
  {
   "cell_type": "code",
   "execution_count": 15,
   "metadata": {},
   "outputs": [
    {
     "ename": "ValueError",
     "evalue": "not enough values to unpack (expected 3, got 2)",
     "output_type": "error",
     "traceback": [
      "\u001b[1;31m---------------------------------------------------------------------------\u001b[0m",
      "\u001b[1;31mValueError\u001b[0m                                Traceback (most recent call last)",
      "Cell \u001b[1;32mIn[15], line 1\u001b[0m\n\u001b[1;32m----> 1\u001b[0m a,b,c\u001b[38;5;241m=\u001b[39m\u001b[38;5;241m14\u001b[39m,\u001b[38;5;241m55\u001b[39m \u001b[38;5;66;03m#error\u001b[39;00m\n\u001b[0;32m      2\u001b[0m \u001b[38;5;28mprint\u001b[39m(a,b,c)\n",
      "\u001b[1;31mValueError\u001b[0m: not enough values to unpack (expected 3, got 2)"
     ]
    }
   ],
   "source": [
    "a,b,c=14,55 #error\n",
    "print(a,b,c)\n",
    "# total,min,max=stats(14,55,78,6,99,555)>> error bcoz stats have two values(int,float)"
   ]
  },
  {
   "cell_type": "code",
   "execution_count": 22,
   "metadata": {},
   "outputs": [
    {
     "name": "stdout",
     "output_type": "stream",
     "text": [
      "[3, 4, 5, 6, 7]\n",
      "1\n",
      "2\n"
     ]
    }
   ],
   "source": [
    "a,b,*c=(1,2,3,4,5,6,7)#only one unpacked operation is allowed\n",
    "print(c)\n",
    "print(a)\n",
    "print(b)"
   ]
  },
  {
   "cell_type": "markdown",
   "metadata": {},
   "source": [
    "# Set:\n",
    "- creating\n",
    "- methods (mutable sets)\n",
    "- set operation:\n",
    "  - union\n",
    "  - intersetion\n",
    "  - differences\n",
    "  - symmetric diff.\n",
    "  - issubset\n",
    "  - issuperset"
   ]
  },
  {
   "cell_type": "code",
   "execution_count": 23,
   "metadata": {},
   "outputs": [
    {
     "name": "stdout",
     "output_type": "stream",
     "text": [
      "{1, 2, 3, 4, 5, 6, 8, 9}\n"
     ]
    }
   ],
   "source": [
    "x={} #dictionary\n",
    "y=set() #empty set\n",
    "z={1,2,3,5,4,8}\n",
    "d={1,2,3,5,4,8,6,5,9,9,9,9} #set removes duplicate\n",
    "print(d)"
   ]
  },
  {
   "cell_type": "code",
   "execution_count": 26,
   "metadata": {},
   "outputs": [
    {
     "name": "stdout",
     "output_type": "stream",
     "text": [
      "{'l', 'h', 'o', 'e'}\n",
      "['l', 'h', 'o', 'e']\n"
     ]
    }
   ],
   "source": [
    "a=set('hello')\n",
    "print(a)\n",
    "print(list(a))"
   ]
  },
  {
   "cell_type": "code",
   "execution_count": 28,
   "metadata": {},
   "outputs": [
    {
     "name": "stdout",
     "output_type": "stream",
     "text": [
      "{65, 4, 12, 78, 21, 54, 55, 22}\n",
      "0 1 2 3 4 5 6 7 8 9 "
     ]
    }
   ],
   "source": [
    "b=set([21,4,54,65,78,55,21,22,12])\n",
    "print(b)\n",
    "c=set(range(10))\n",
    "for i in c:\n",
    "    print(i,end=\" \")"
   ]
  },
  {
   "cell_type": "code",
   "execution_count": 29,
   "metadata": {},
   "outputs": [
    {
     "name": "stdout",
     "output_type": "stream",
     "text": [
      "{1, 12, 15}\n"
     ]
    }
   ],
   "source": [
    "data=set()\n",
    "data.add(12)\n",
    "data.add(1)\n",
    "data.add(15)\n",
    "data.add(12)\n",
    "print(data)"
   ]
  },
  {
   "cell_type": "code",
   "execution_count": 30,
   "metadata": {},
   "outputs": [
    {
     "name": "stdout",
     "output_type": "stream",
     "text": [
      "{1, 545, 555, 12, 11, 78, 15, 54}\n"
     ]
    }
   ],
   "source": [
    "data.update([54,545,78,555,11,12]) #multiple addition\n",
    "print(data)"
   ]
  },
  {
   "cell_type": "code",
   "execution_count": 36,
   "metadata": {},
   "outputs": [
    {
     "name": "stdout",
     "output_type": "stream",
     "text": [
      "set()\n"
     ]
    },
    {
     "ename": "KeyError",
     "evalue": "'pop from an empty set'",
     "output_type": "error",
     "traceback": [
      "\u001b[1;31m---------------------------------------------------------------------------\u001b[0m",
      "\u001b[1;31mKeyError\u001b[0m                                  Traceback (most recent call last)",
      "Cell \u001b[1;32mIn[36], line 3\u001b[0m\n\u001b[0;32m      1\u001b[0m data\u001b[38;5;241m.\u001b[39mdiscard(\u001b[38;5;241m78\u001b[39m)\n\u001b[0;32m      2\u001b[0m \u001b[38;5;28mprint\u001b[39m(data)\n\u001b[1;32m----> 3\u001b[0m \u001b[43mdata\u001b[49m\u001b[38;5;241;43m.\u001b[39;49m\u001b[43mpop\u001b[49m\u001b[43m(\u001b[49m\u001b[43m)\u001b[49m \u001b[38;5;66;03m#remove random element\u001b[39;00m\n\u001b[0;32m      4\u001b[0m \u001b[38;5;28mprint\u001b[39m(data)\n\u001b[0;32m      5\u001b[0m data\u001b[38;5;241m.\u001b[39mclear()\n",
      "\u001b[1;31mKeyError\u001b[0m: 'pop from an empty set'"
     ]
    }
   ],
   "source": [
    "data.discard(78)\n",
    "print(data)\n",
    "data.pop() #remove random element\n",
    "print(data)\n",
    "data.clear()\n",
    "print(data)"
   ]
  },
  {
   "cell_type": "code",
   "execution_count": 44,
   "metadata": {},
   "outputs": [
    {
     "name": "stdout",
     "output_type": "stream",
     "text": [
      "{1, 2, 3, 4, 5, 6, 7, 8}\n",
      "{1, 2, 3, 4, 5, 6, 7, 8}\n",
      "{4, 5}\n",
      "{4, 5}\n",
      "{1, 2, 3}\n",
      "{8, 6, 7}\n",
      "{1, 2, 3}\n",
      "{8, 6, 7}\n",
      "{1, 2, 3, 6, 7, 8}\n",
      "{1, 2, 3, 6, 7, 8}\n"
     ]
    }
   ],
   "source": [
    "#operation\n",
    "a={1,2,3,4,5}\n",
    "b={4,5,6,7,8}\n",
    "c={11,12,13}\n",
    "print(a.union(b))\n",
    "print(a|b) # |>union\n",
    "print(a.intersection(b))\n",
    "print(a & b) # &> intersection\n",
    "print(a.difference(b))\n",
    "print(b.difference(a))\n",
    "print(a-b) #give the unique element of the first element(a)\n",
    "print(b-a)#give the unique element of the first element(b)\n",
    "print(a.symmetric_difference(b)) #removing the common\n",
    "print(a^b) # ^:symmetric diff\n"
   ]
  },
  {
   "cell_type": "code",
   "execution_count": 49,
   "metadata": {},
   "outputs": [
    {
     "name": "stdout",
     "output_type": "stream",
     "text": [
      "False\n",
      "False\n",
      "True\n",
      "True\n",
      "False\n",
      "False\n",
      "False\n",
      "True\n",
      "False\n"
     ]
    }
   ],
   "source": [
    "d={1,2,3}\n",
    "print(a.issuperset(b))\n",
    "print(a.issuperset(c))\n",
    "print(a.issuperset(d))\n",
    "print(d.issubset(a))\n",
    "print(d.issubset(b))\n",
    "print(d.issubset(c))\n",
    "print(a.isdisjoint(b))\n",
    "print(a.isdisjoint(c))\n",
    "print(a.isdisjoint(d))"
   ]
  },
  {
   "cell_type": "code",
   "execution_count": 52,
   "metadata": {},
   "outputs": [
    {
     "name": "stdout",
     "output_type": "stream",
     "text": [
      "{1, 3, 4, 5, 6}\n",
      "(1, 4, 5, 6, 4, 3, 5)\n"
     ]
    }
   ],
   "source": [
    "#conversion\n",
    "a=[1,4,5,6,4,3,5]\n",
    "a_set=set(a)\n",
    "a_tup=tuple(a)\n",
    "print(a_set)\n",
    "print(a_tup)"
   ]
  },
  {
   "cell_type": "code",
   "execution_count": 56,
   "metadata": {},
   "outputs": [
    {
     "name": "stdout",
     "output_type": "stream",
     "text": [
      "[1, 2, 3, 3, 3, 4, 5, 5, 5, 3, 3, 3]\n",
      "[1, 2, 3, 4, 5]\n"
     ]
    }
   ],
   "source": [
    "z=[1,2,3,3,3,4,5,5,5,3,3,3]\n",
    "print(z)\n",
    "z=list(set(z)) #set--> remove duplicate --> list -->x\n",
    "print(z)"
   ]
  },
  {
   "cell_type": "markdown",
   "metadata": {},
   "source": [
    "# Dictionary\n",
    "- creation\n",
    "- traversal\n",
    "- method\n",
    "-sorting\n",
    "- comprehension"
   ]
  },
  {
   "cell_type": "code",
   "execution_count": null,
   "metadata": {},
   "outputs": [],
   "source": [
    "syntax:\n",
    "\n",
    "{\n",
    "    key:value,  #3 elements present, key should be unique(duplicate keys: it will show the latest entry)\n",
    "     key:value,   #key: Numbers,Strings,tuples\n",
    "    key:value,\n",
    "}"
   ]
  },
  {
   "cell_type": "code",
   "execution_count": 8,
   "metadata": {},
   "outputs": [
    {
     "name": "stdout",
     "output_type": "stream",
     "text": [
      "{'apple': 'red', 'banana': 'yellow', 'cherry': 'red', 'orange': 'orange'}\n"
     ]
    }
   ],
   "source": [
    "fruits={\n",
    "    'apple':'red',\n",
    "    'banana':'yellow',\n",
    "    'cherry':'red',\n",
    "    'orange':'orange'\n",
    "}\n",
    "print(fruits)\n"
   ]
  },
  {
   "cell_type": "code",
   "execution_count": 2,
   "metadata": {},
   "outputs": [
    {
     "name": "stdout",
     "output_type": "stream",
     "text": [
      "{'lucknow': [23, 56, 77], 'Delhi': [23, 56, 77], 'Gurgaon': [23, 56, 77]}\n"
     ]
    }
   ],
   "source": [
    "temp={\n",
    "    'lucknow':[23,56,77],\n",
    "    'Delhi':[23,56,77],\n",
    "    'Gurgaon':[23,56,77]\n",
    "}\n",
    "print(temp)"
   ]
  },
  {
   "cell_type": "code",
   "execution_count": 3,
   "metadata": {},
   "outputs": [
    {
     "name": "stdout",
     "output_type": "stream",
     "text": [
      "{1: 'dumb', 10: 'bumb', 100: 'dumb'}\n"
     ]
    }
   ],
   "source": [
    "nums={\n",
    "    1:'dumb',\n",
    "    10:'bumb',\n",
    "    100:'dumb',\n",
    "}\n",
    "print(nums)"
   ]
  },
  {
   "cell_type": "code",
   "execution_count": 4,
   "metadata": {},
   "outputs": [
    {
     "name": "stdout",
     "output_type": "stream",
     "text": [
      "{'name': 'raju', 'age': 25, 'marks': [54, 77, 43]}\n"
     ]
    }
   ],
   "source": [
    "info=dict(name='raju',age=25,marks=[54,77,43])\n",
    "print(info)"
   ]
  },
  {
   "cell_type": "code",
   "execution_count": 6,
   "metadata": {},
   "outputs": [
    {
     "name": "stdout",
     "output_type": "stream",
     "text": [
      "{'Alex': {'English': {'sem1': 45, 'sem2': 55}, 'Maths': 78, 'Biology': 85}, 'Rahul': {'English': 56, 'Maths': 88, 'Biology': 67}}\n"
     ]
    }
   ],
   "source": [
    "#nested dictionary\n",
    "report={\n",
    "    'Alex':{\n",
    "        'English':{\n",
    "            'sem1':45,\n",
    "            'sem2':55,\n",
    "        },\n",
    "        'Maths':78,\n",
    "        'Biology':85,\n",
    "    },\n",
    "\n",
    "    'Rahul':{\n",
    "        'English':56,\n",
    "        'Maths':88,\n",
    "        'Biology':67,\n",
    "    },\n",
    "}\n",
    "print(report)"
   ]
  },
  {
   "cell_type": "code",
   "execution_count": 7,
   "metadata": {},
   "outputs": [
    {
     "name": "stdout",
     "output_type": "stream",
     "text": [
      "{'Alex': {'English': {'sem1': 45, 'sem2': 55}, 'Maths': 78, 'Biology': 85}, 'Rahul': {'English': 56, 'Maths': 88, 'Biology': 67}}\n"
     ]
    }
   ],
   "source": [
    "from pprint import pp #pprint> library\n",
    "print(report)"
   ]
  },
  {
   "cell_type": "code",
   "execution_count": 10,
   "metadata": {},
   "outputs": [
    {
     "data": {
      "text/plain": [
       "'red'"
      ]
     },
     "execution_count": 10,
     "metadata": {},
     "output_type": "execute_result"
    }
   ],
   "source": [
    "#retrieval of value from the key\n",
    "fruits['apple']\n"
   ]
  },
  {
   "cell_type": "code",
   "execution_count": 11,
   "metadata": {},
   "outputs": [
    {
     "data": {
      "text/plain": [
       "{'English': 56, 'Maths': 88, 'Biology': 67}"
      ]
     },
     "execution_count": 11,
     "metadata": {},
     "output_type": "execute_result"
    }
   ],
   "source": [
    "report['Rahul']"
   ]
  },
  {
   "cell_type": "code",
   "execution_count": 12,
   "metadata": {},
   "outputs": [
    {
     "data": {
      "text/plain": [
       "{'sem1': 45, 'sem2': 55}"
      ]
     },
     "execution_count": 12,
     "metadata": {},
     "output_type": "execute_result"
    }
   ],
   "source": [
    "report['Alex']['English']"
   ]
  },
  {
   "cell_type": "code",
   "execution_count": 41,
   "metadata": {},
   "outputs": [
    {
     "name": "stdout",
     "output_type": "stream",
     "text": [
      "23\n",
      "77\n",
      "avg temp of lko 52.0\n"
     ]
    }
   ],
   "source": [
    "print(temp['lucknow'][0])\n",
    "print(temp['lucknow'][-1])\n",
    "print('avg temp of lko',sum(temp['lucknow'])/len(temp['lucknow']))"
   ]
  },
  {
   "cell_type": "code",
   "execution_count": 15,
   "metadata": {},
   "outputs": [
    {
     "name": "stdout",
     "output_type": "stream",
     "text": [
      "dict_keys(['apple', 'banana', 'cherry', 'orange'])\n"
     ]
    }
   ],
   "source": [
    "print(fruits.keys())"
   ]
  },
  {
   "cell_type": "code",
   "execution_count": 17,
   "metadata": {},
   "outputs": [
    {
     "name": "stdout",
     "output_type": "stream",
     "text": [
      "['apple', 'banana', 'cherry', 'orange']\n"
     ]
    }
   ],
   "source": [
    "fruit_name=list(fruits.keys())\n",
    "print(fruit_name)"
   ]
  },
  {
   "cell_type": "code",
   "execution_count": 18,
   "metadata": {},
   "outputs": [
    {
     "name": "stdout",
     "output_type": "stream",
     "text": [
      "dict_values(['red', 'yellow', 'red', 'orange'])\n"
     ]
    }
   ],
   "source": [
    "print(fruits.values())"
   ]
  },
  {
   "cell_type": "code",
   "execution_count": 19,
   "metadata": {},
   "outputs": [
    {
     "name": "stdout",
     "output_type": "stream",
     "text": [
      "apple\n",
      "banana\n",
      "cherry\n",
      "orange\n"
     ]
    }
   ],
   "source": [
    "#traversal through keys\n",
    "for items in fruits:\n",
    "    print(items)"
   ]
  },
  {
   "cell_type": "code",
   "execution_count": 20,
   "metadata": {},
   "outputs": [
    {
     "name": "stdout",
     "output_type": "stream",
     "text": [
      "apple red\n",
      "banana yellow\n",
      "cherry red\n",
      "orange orange\n"
     ]
    }
   ],
   "source": [
    "#finding values\n",
    "for x in fruits:\n",
    "    print(x,fruits[x])"
   ]
  },
  {
   "cell_type": "code",
   "execution_count": 21,
   "metadata": {},
   "outputs": [
    {
     "name": "stdout",
     "output_type": "stream",
     "text": [
      "apple red\n",
      "banana yellow\n",
      "cherry red\n",
      "orange orange\n"
     ]
    }
   ],
   "source": [
    "#transverse using .items()method\n",
    "for k,v in fruits.items():\n",
    "    print(k,v)"
   ]
  },
  {
   "cell_type": "code",
   "execution_count": 22,
   "metadata": {},
   "outputs": [
    {
     "name": "stdout",
     "output_type": "stream",
     "text": [
      "red\n",
      "yellow\n",
      "red\n",
      "orange\n"
     ]
    }
   ],
   "source": [
    "#only values\n",
    "for v in fruits.values():\n",
    "    print(v)"
   ]
  },
  {
   "cell_type": "code",
   "execution_count": 24,
   "metadata": {},
   "outputs": [
    {
     "name": "stdout",
     "output_type": "stream",
     "text": [
      "Alex\n",
      "Rahul\n",
      "English 56\n",
      "Maths 88\n",
      "Biology 67\n"
     ]
    },
    {
     "ename": "AttributeError",
     "evalue": "'int' object has no attribute 'values'",
     "output_type": "error",
     "traceback": [
      "\u001b[1;31m---------------------------------------------------------------------------\u001b[0m",
      "\u001b[1;31mAttributeError\u001b[0m                            Traceback (most recent call last)",
      "Cell \u001b[1;32mIn[24], line 6\u001b[0m\n\u001b[0;32m      4\u001b[0m \u001b[38;5;28;01mfor\u001b[39;00m subject, marks \u001b[38;5;129;01min\u001b[39;00m marks\u001b[38;5;241m.\u001b[39mitems():\n\u001b[0;32m      5\u001b[0m     \u001b[38;5;28mprint\u001b[39m(subject,marks)\n\u001b[1;32m----> 6\u001b[0m \u001b[38;5;28mprint\u001b[39m(\u001b[38;5;28msum\u001b[39m(\u001b[43mmarks\u001b[49m\u001b[38;5;241;43m.\u001b[39;49m\u001b[43mvalues\u001b[49m()))\n",
      "\u001b[1;31mAttributeError\u001b[0m: 'int' object has no attribute 'values'"
     ]
    }
   ],
   "source": [
    "#total marks in report\n",
    "for student, marks in report.items():\n",
    "    print(student)\n",
    "for subject, marks in marks.items():\n",
    "    print(subject,marks)\n",
    "print(sum(marks.values()))"
   ]
  },
  {
   "cell_type": "code",
   "execution_count": 26,
   "metadata": {},
   "outputs": [
    {
     "name": "stdout",
     "output_type": "stream",
     "text": [
      "{'apple': 'green', 'banana': 'yellow', 'cherry': 'red', 'orange': 'orange', 'mango': 'yellow'}\n"
     ]
    }
   ],
   "source": [
    "fruits['mango']='yellow' #add\n",
    "fruits['apple']='green' #update\n",
    "print(fruits)"
   ]
  },
  {
   "cell_type": "code",
   "execution_count": 28,
   "metadata": {},
   "outputs": [
    {
     "name": "stdout",
     "output_type": "stream",
     "text": [
      "{'apple': 'green',\n",
      " 'banana': 'yellow',\n",
      " 'cherry': 'red',\n",
      " 'orange': 'orange',\n",
      " 'mango': 'yellow',\n",
      " 'dates': 'Brown',\n",
      " 'Almond': 'Brown'}\n"
     ]
    }
   ],
   "source": [
    "#adding small dict to big dict\n",
    "dry_fruits={'dates':'Brown','Almond':'Brown'}\n",
    "fruits.update(dry_fruits)\n",
    "pp(fruits)"
   ]
  },
  {
   "cell_type": "code",
   "execution_count": 31,
   "metadata": {},
   "outputs": [
    {
     "name": "stdout",
     "output_type": "stream",
     "text": [
      "None\n",
      "None No value find\n"
     ]
    }
   ],
   "source": [
    "#get method: error free way to access dict values\n",
    "# print(fruits['Raisin'])\n",
    "print(fruits.get('Raisin')) #default\n",
    "print(fruits.get('Raisin'),'No value find')"
   ]
  },
  {
   "cell_type": "code",
   "execution_count": 32,
   "metadata": {},
   "outputs": [
    {
     "data": {
      "text/plain": [
       "'yellow'"
      ]
     },
     "execution_count": 32,
     "metadata": {},
     "output_type": "execute_result"
    }
   ],
   "source": [
    "#rremove\n",
    "fruits.pop('banana') #remove by key>>returns value"
   ]
  },
  {
   "cell_type": "code",
   "execution_count": 33,
   "metadata": {},
   "outputs": [
    {
     "name": "stdout",
     "output_type": "stream",
     "text": [
      "{'apple': 'green',\n",
      " 'cherry': 'red',\n",
      " 'orange': 'orange',\n",
      " 'mango': 'yellow',\n",
      " 'dates': 'Brown',\n",
      " 'Almond': 'Brown'}\n"
     ]
    }
   ],
   "source": [
    "pp(fruits)"
   ]
  },
  {
   "cell_type": "code",
   "execution_count": 34,
   "metadata": {},
   "outputs": [
    {
     "data": {
      "text/plain": [
       "[('Almond', 'Brown'),\n",
       " ('apple', 'green'),\n",
       " ('cherry', 'red'),\n",
       " ('dates', 'Brown'),\n",
       " ('mango', 'yellow'),\n",
       " ('orange', 'orange')]"
      ]
     },
     "execution_count": 34,
     "metadata": {},
     "output_type": "execute_result"
    }
   ],
   "source": [
    "#sort by keys\n",
    "sorted(fruits.items())"
   ]
  },
  {
   "cell_type": "code",
   "execution_count": 35,
   "metadata": {},
   "outputs": [
    {
     "data": {
      "text/plain": [
       "[('dates', 'Brown'),\n",
       " ('Almond', 'Brown'),\n",
       " ('apple', 'green'),\n",
       " ('orange', 'orange'),\n",
       " ('cherry', 'red'),\n",
       " ('mango', 'yellow')]"
      ]
     },
     "execution_count": 35,
     "metadata": {},
     "output_type": "execute_result"
    }
   ],
   "source": [
    "#sorted by values\n",
    "sorted(fruits.items(),key=lambda e:e[1])"
   ]
  },
  {
   "cell_type": "code",
   "execution_count": 36,
   "metadata": {},
   "outputs": [
    {
     "data": {
      "text/plain": [
       "{'dates': 'Brown',\n",
       " 'Almond': 'Brown',\n",
       " 'apple': 'green',\n",
       " 'orange': 'orange',\n",
       " 'cherry': 'red',\n",
       " 'mango': 'yellow'}"
      ]
     },
     "execution_count": 36,
     "metadata": {},
     "output_type": "execute_result"
    }
   ],
   "source": [
    "#display in disctionary\n",
    "dict(sorted(fruits.items(),key=lambda e:e[1]))"
   ]
  },
  {
   "cell_type": "code",
   "execution_count": 37,
   "metadata": {},
   "outputs": [
    {
     "name": "stdout",
     "output_type": "stream",
     "text": [
      "{'apple': 'GREEN',\n",
      " 'cherry': 'RED',\n",
      " 'orange': 'ORANGE',\n",
      " 'mango': 'YELLOW',\n",
      " 'dates': 'BROWN',\n",
      " 'almond': 'BROWN'}\n"
     ]
    }
   ],
   "source": [
    "clean_fruits={}\n",
    "for k,v in fruits.items():\n",
    "    clean_fruits[k.lower()]=v.upper()\n",
    "pp(clean_fruits)"
   ]
  },
  {
   "cell_type": "code",
   "execution_count": 38,
   "metadata": {},
   "outputs": [
    {
     "name": "stdout",
     "output_type": "stream",
     "text": [
      "{'apple': 'GREEN',\n",
      " 'cherry': 'RED',\n",
      " 'orange': 'ORANGE',\n",
      " 'mango': 'YELLOW',\n",
      " 'dates': 'BROWN',\n",
      " 'almond': 'BROWN'}\n"
     ]
    }
   ],
   "source": [
    "#comprehension\n",
    "clean_fruits={k.lower():v.upper() for k,v in fruits.items()}\n",
    "pp(clean_fruits)"
   ]
  },
  {
   "cell_type": "code",
   "execution_count": 39,
   "metadata": {},
   "outputs": [
    {
     "name": "stdout",
     "output_type": "stream",
     "text": [
      "{'lucknow': 52.0, 'Delhi': 52.0, 'Gurgaon': 52.0}\n"
     ]
    }
   ],
   "source": [
    "avg_temp={city:sum(data)/len(data) for city,data in temp.items()}\n",
    "print(avg_temp)"
   ]
  }
 ],
 "metadata": {
  "kernelspec": {
   "display_name": "Python 3",
   "language": "python",
   "name": "python3"
  },
  "language_info": {
   "codemirror_mode": {
    "name": "ipython",
    "version": 3
   },
   "file_extension": ".py",
   "mimetype": "text/x-python",
   "name": "python",
   "nbconvert_exporter": "python",
   "pygments_lexer": "ipython3",
   "version": "3.12.3"
  }
 },
 "nbformat": 4,
 "nbformat_minor": 2
}
