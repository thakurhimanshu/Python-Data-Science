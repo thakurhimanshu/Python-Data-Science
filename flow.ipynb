{
 "cells": [
  {
   "cell_type": "markdown",
   "metadata": {},
   "source": [
    "Programming Flow-\n",
    "- Conditional flow\n",
    " - if\n",
    " - if else\n",
    " - if elif else\n",
    " - match case\n",
    "\n",
    "- iteartive flow\n",
    " - for loop\n",
    " - while loop"
   ]
  },
  {
   "cell_type": "code",
   "execution_count": 4,
   "metadata": {},
   "outputs": [
    {
     "name": "stdout",
     "output_type": "stream",
     "text": [
      "INVALID!!\n"
     ]
    }
   ],
   "source": [
    "x='Hell'\n",
    "if len(x)>=5:\n",
    "    print(\"HELLO WORLD\")\n",
    "else:\n",
    "    print(\"INVALID!!\")"
   ]
  },
  {
   "cell_type": "code",
   "execution_count": 11,
   "metadata": {},
   "outputs": [
    {
     "name": "stdout",
     "output_type": "stream",
     "text": [
      "a*2 is greater than 100\n",
      "a+50 is greater than 150\n"
     ]
    }
   ],
   "source": [
    "a=int(input(\"Enter a number\"))\n",
    "if a*2>100:\n",
    "    print('a*2 is greater than 100')\n",
    "if a+50>150:\n",
    "    print('a+50 is greater than 150')"
   ]
  },
  {
   "cell_type": "code",
   "execution_count": 15,
   "metadata": {},
   "outputs": [
    {
     "name": "stdout",
     "output_type": "stream",
     "text": [
      "ODD\n"
     ]
    }
   ],
   "source": [
    "k=int(input(\"Enter a number\"))\n",
    "if k%2==0:\n",
    "    print(\"EVEN\")\n",
    "else:\n",
    "    print(\"ODD\")"
   ]
  },
  {
   "cell_type": "code",
   "execution_count": 1,
   "metadata": {},
   "outputs": [
    {
     "name": "stdout",
     "output_type": "stream",
     "text": [
      "49292.8404\n"
     ]
    }
   ],
   "source": [
    "s=int(input(\"Enter total sallary\"))\n",
    "hra=s*5/100\n",
    "da=s*3.3/100\n",
    "ta=s*2.61/100\n",
    "# tsa=s+hra+da+ta\n",
    "if(hra<1000):\n",
    "     tsa=s+da+ta\n",
    "     print(tsa)\n",
    "else:\n",
    "     tsa=s+hra+da+ta\n",
    "     print(tsa)\n"
   ]
  },
  {
   "cell_type": "code",
   "execution_count": 3,
   "metadata": {},
   "outputs": [
    {
     "name": "stdout",
     "output_type": "stream",
     "text": [
      "Main Hoon Na\n",
      "⭐⭐⭐⭐:Good\n"
     ]
    }
   ],
   "source": [
    "num_str=input(\"Enter the rating\")\n",
    "name=input(\"Enter the Movie name\")\n",
    "if num_str.isnumeric():\n",
    "    num=int(num_str)\n",
    "    print(name)\n",
    "    if num==1:\n",
    "        print(\"⭐: Terrible\")\n",
    "    elif num==2:\n",
    "        print(\"⭐⭐:bad\")\n",
    "    elif num==3:\n",
    "        print(\"⭐⭐⭐:Average\")\n",
    "    elif num==4:\n",
    "        print(\"⭐⭐⭐⭐:Good\")\n",
    "    elif num==5:\n",
    "        print(\"⭐⭐⭐⭐⭐:Excellent\")\n",
    "    else:\n",
    "        print(\"⚠️⚠️⚠️\")\n",
    "else:\n",
    "    print(\"Nothing Can Work for You\")\n"
   ]
  },
  {
   "cell_type": "code",
   "execution_count": 11,
   "metadata": {},
   "outputs": [
    {
     "name": "stdout",
     "output_type": "stream",
     "text": [
      "Heat Wave \n"
     ]
    }
   ],
   "source": [
    "#Match Case-Use this to match multiple Values\n",
    "day=input(\"Enter a Day of the week:\")\n",
    "match day:\n",
    "    case 'Monday'|'Tuesday'|'Wednesday'|'Friday':\n",
    "        print('Data Science/Data Analysis Class')\n",
    "    case 'Thursday':\n",
    "        print('Holiday')\n",
    "    case 'Saturday':\n",
    "        print(\"OFF\")\n",
    "    case 'Sunday':\n",
    "        print(\"Heat Wave \")\n",
    "    case _:\n",
    "        print(\"Invalid\")\n",
    "   \n"
   ]
  },
  {
   "cell_type": "code",
   "execution_count": 12,
   "metadata": {},
   "outputs": [
    {
     "data": {
      "text/plain": [
       "'below 100'"
      ]
     },
     "execution_count": 12,
     "metadata": {},
     "output_type": "execute_result"
    }
   ],
   "source": [
    "#Single line Condition\n",
    "x=int(input(\"Enter the Value\"))\n",
    "\"above 100\" if x>100 else \"below 100\""
   ]
  },
  {
   "cell_type": "code",
   "execution_count": null,
   "metadata": {},
   "outputs": [],
   "source": [
    "#For Loop>> step based Loop, >>Used for Traversal\n",
    "### -Syntax:for variable in iterable\n",
    "\n",
    "#While Lopp>> Condition based\n",
    "\n",
    "\n"
   ]
  },
  {
   "cell_type": "code",
   "execution_count": 13,
   "metadata": {},
   "outputs": [
    {
     "name": "stdout",
     "output_type": "stream",
     "text": [
      "h\n",
      "e\n",
      "l\n",
      "l\n",
      "o\n"
     ]
    }
   ],
   "source": [
    "for var in 'hello':\n",
    "    print(var)\n"
   ]
  },
  {
   "cell_type": "code",
   "execution_count": 14,
   "metadata": {},
   "outputs": [
    {
     "name": "stdout",
     "output_type": "stream",
     "text": [
      "red\n",
      "blue\n",
      "green\n",
      "yellow\n"
     ]
    }
   ],
   "source": [
    "colors=['red','blue','green','yellow']\n",
    "for i in colors:\n",
    "    print(i)"
   ]
  },
  {
   "cell_type": "code",
   "execution_count": 15,
   "metadata": {},
   "outputs": [
    {
     "name": "stdout",
     "output_type": "stream",
     "text": [
      "0 red\n",
      "1 blue\n",
      "2 green\n",
      "3 yellow\n"
     ]
    }
   ],
   "source": [
    "#index and values\n",
    "for i,v in enumerate(colors):\n",
    "    print(i,v)"
   ]
  },
  {
   "cell_type": "code",
   "execution_count": 21,
   "metadata": {},
   "outputs": [
    {
     "name": "stdout",
     "output_type": "stream",
     "text": [
      " 12*10 => 120\n",
      "  3*10 => 30\n",
      " 45*10 => 450\n",
      " 67*10 => 670\n",
      " 34*10 => 340\n",
      " 24*10 => 240\n",
      " 20*10 => 200\n"
     ]
    }
   ],
   "source": [
    "numlist=[12,3,45,67,34,24,20]\n",
    "for i in numlist:\n",
    "    print(f'{i:>3}*{10} => {i*10}')"
   ]
  },
  {
   "cell_type": "code",
   "execution_count": 26,
   "metadata": {},
   "outputs": [
    {
     "name": "stdout",
     "output_type": "stream",
     "text": [
      "13*1 => 13   \n",
      "13*2 => 26   \n",
      "13*3 => 39   \n",
      "13*4 => 52   \n",
      "13*5 => 65   \n",
      "13*6 => 78   \n",
      "13*7 => 91   \n",
      "13*8 => 104  \n",
      "13*9 => 117  \n",
      "13*10 => 130  \n"
     ]
    }
   ],
   "source": [
    "# range(value)=>'start from 0 go till -1'\n",
    "# range(a,b)=>'start from a go till b-1'\n",
    "# range(a,b,c)=>'start for a go till b-1 with gap of c'\n",
    "num=13\n",
    "for i in range(1,11):\n",
    "    print(f'{num}*{i} => {num*i:<5}')"
   ]
  },
  {
   "cell_type": "code",
   "execution_count": 29,
   "metadata": {},
   "outputs": [
    {
     "name": "stdout",
     "output_type": "stream",
     "text": [
      "1\n",
      "3\n",
      "5\n",
      "7\n",
      "9\n",
      "11\n",
      "13\n",
      "15\n",
      "17\n",
      "19\n",
      "21\n",
      "23\n",
      "25\n",
      "27\n",
      "29\n",
      "31\n",
      "33\n",
      "35\n",
      "37\n",
      "39\n",
      "41\n",
      "43\n",
      "45\n",
      "47\n",
      "49\n",
      "51\n",
      "53\n",
      "55\n",
      "57\n",
      "59\n",
      "61\n",
      "63\n",
      "65\n",
      "67\n",
      "69\n",
      "71\n",
      "73\n",
      "75\n",
      "77\n",
      "79\n",
      "81\n",
      "83\n",
      "85\n",
      "87\n",
      "89\n",
      "91\n",
      "93\n",
      "95\n",
      "97\n",
      "99\n"
     ]
    }
   ],
   "source": [
    "for i in range (1,101,2):\n",
    "    print(i)"
   ]
  },
  {
   "cell_type": "code",
   "execution_count": 27,
   "metadata": {},
   "outputs": [
    {
     "name": "stdout",
     "output_type": "stream",
     "text": [
      "13\n",
      "26\n",
      "39\n",
      "52\n",
      "65\n",
      "78\n",
      "91\n",
      "104\n",
      "117\n",
      "130\n"
     ]
    }
   ],
   "source": [
    "seq=[1,2,3,4,5,6,7,8,9,10]\n",
    "num=13\n",
    "for i in seq:\n",
    "    print(i*num)"
   ]
  },
  {
   "cell_type": "code",
   "execution_count": 2,
   "metadata": {},
   "outputs": [
    {
     "name": "stdout",
     "output_type": "stream",
     "text": [
      "10\n",
      "9\n",
      "8\n",
      "7\n",
      "6\n",
      "5\n",
      "4\n",
      "3\n",
      "2\n",
      "1\n"
     ]
    }
   ],
   "source": [
    "#reverse loop\n",
    "for i in range(10,0,-1):\n",
    "    print(f'{i}')"
   ]
  },
  {
   "cell_type": "markdown",
   "metadata": {},
   "source": [
    "-nested\n",
    "-break and continue\n",
    "-for-else"
   ]
  },
  {
   "cell_type": "code",
   "execution_count": 8,
   "metadata": {},
   "outputs": [
    {
     "name": "stdout",
     "output_type": "stream",
     "text": [
      "⭐ ⭐⭐ ⭐⭐⭐ ⭐⭐⭐⭐ ⭐⭐⭐⭐⭐ \n",
      "⭐ ⭐⭐ ⭐⭐⭐ ⭐⭐⭐⭐ ⭐⭐⭐⭐⭐ \n",
      "⭐ ⭐⭐ ⭐⭐⭐ ⭐⭐⭐⭐ ⭐⭐⭐⭐⭐ \n",
      "⭐ ⭐⭐ ⭐⭐⭐ ⭐⭐⭐⭐ ⭐⭐⭐⭐⭐ \n",
      "⭐ ⭐⭐ ⭐⭐⭐ ⭐⭐⭐⭐ ⭐⭐⭐⭐⭐ \n",
      "⭐ ⭐⭐ ⭐⭐⭐ ⭐⭐⭐⭐ ⭐⭐⭐⭐⭐ \n",
      "⭐ ⭐⭐ ⭐⭐⭐ ⭐⭐⭐⭐ ⭐⭐⭐⭐⭐ \n",
      "⭐ ⭐⭐ ⭐⭐⭐ ⭐⭐⭐⭐ ⭐⭐⭐⭐⭐ \n",
      "⭐ ⭐⭐ ⭐⭐⭐ ⭐⭐⭐⭐ ⭐⭐⭐⭐⭐ \n",
      "⭐ ⭐⭐ ⭐⭐⭐ ⭐⭐⭐⭐ ⭐⭐⭐⭐⭐ \n"
     ]
    }
   ],
   "source": [
    "for i in range(1,11):\n",
    "    for j in range(1,6):\n",
    "        print('⭐'*j,end=' ')\n",
    "    print()"
   ]
  },
  {
   "cell_type": "code",
   "execution_count": 17,
   "metadata": {},
   "outputs": [
    {
     "name": "stdout",
     "output_type": "stream",
     "text": [
      "1:John:25:\n",
      "2:John:25:\n",
      "3:John:25:\n"
     ]
    }
   ],
   "source": [
    "cdata= [\n",
    "    [1,'John',25],\n",
    "    [2,'John',25],\n",
    "    [3,'John',25],\n",
    "]\n",
    "\n",
    "for row in cdata:\n",
    "    for items in row:\n",
    "        print(items,end=':')\n",
    "    print()"
   ]
  },
  {
   "cell_type": "code",
   "execution_count": 18,
   "metadata": {},
   "outputs": [
    {
     "name": "stdout",
     "output_type": "stream",
     "text": [
      "12 45 67 \n",
      "23 45 67 \n",
      "34 56 78 \n",
      "23 45 23 \n",
      "34 56 78 \n"
     ]
    }
   ],
   "source": [
    "more_data=[\n",
    "    [[12,45,67],[23,45,67],[34,56,78]],[[23,45,23],[34,56,78]]\n",
    "]\n",
    "for fir in more_data:\n",
    "    for sec in fir:\n",
    "        for thir in sec:\n",
    "            print(thir,end=' ')\n",
    "        print()"
   ]
  },
  {
   "cell_type": "markdown",
   "metadata": {},
   "source": [
    "-Break(for stopping) And Continue(for skipping)"
   ]
  },
  {
   "cell_type": "code",
   "execution_count": 19,
   "metadata": {},
   "outputs": [
    {
     "name": "stdout",
     "output_type": "stream",
     "text": [
      "1\n",
      "2\n",
      "3\n",
      "5\n",
      "6\n",
      "7\n",
      "8\n",
      "Loop end\n"
     ]
    }
   ],
   "source": [
    "i=[1,2,3,5,6,7,8,-9,8,99,-8,-6]\n",
    "for x in i:\n",
    "    if x<0:\n",
    "        break\n",
    "    print(x)\n",
    "print(\"Loop end\")"
   ]
  },
  {
   "cell_type": "code",
   "execution_count": 27,
   "metadata": {},
   "outputs": [
    {
     "name": "stdout",
     "output_type": "stream",
     "text": [
      "1 2 3 7 8 9 "
     ]
    }
   ],
   "source": [
    "data_with_crap=[1,2,3,'4,','6',7,8,9]\n",
    "for i in data_with_crap:\n",
    "    if isinstance(i,str):\n",
    "    # if type(i)==str:\n",
    "        continue\n",
    "    print(i,end=' ')\n",
    "\n",
    "    "
   ]
  },
  {
   "cell_type": "code",
   "execution_count": 32,
   "metadata": {},
   "outputs": [
    {
     "name": "stdout",
     "output_type": "stream",
     "text": [
      "1 \n",
      "2 \n",
      "3 \n",
      "4 \n",
      "5 \n",
      "6 \n",
      "7 \n",
      "count:7\n"
     ]
    }
   ],
   "source": [
    "#Adding a check for loop completion\n",
    "data=[1,2,3,4,5,6,7,8,9,10]\n",
    "stop_value=int(input(\"Enter the Stop value at:\"))\n",
    "counter=0\n",
    "for i in data:\n",
    "    if stop_value==i:\n",
    "        break\n",
    "    print(i)\n",
    "    counter+=1\n",
    "print(f'count:{counter}')\n",
    "if counter==len(data):\n",
    "    print(\"loop Completed all the Steps\")"
   ]
  },
  {
   "cell_type": "markdown",
   "metadata": {},
   "source": [
    "for-else can be best used for Prime numbers identification"
   ]
  },
  {
   "cell_type": "code",
   "execution_count": 37,
   "metadata": {},
   "outputs": [
    {
     "name": "stdout",
     "output_type": "stream",
     "text": [
      "1\n",
      "2\n",
      "3\n",
      "4\n",
      "5\n",
      "6\n",
      "loop stopped at:7\n"
     ]
    }
   ],
   "source": [
    "data=[1,2,3,4,5,6,7,8,9,10]\n",
    "stop_value=int(input(\"Enter the Stop value at:\"))\n",
    "counter=0\n",
    "for i in data:\n",
    "    if stop_value==i:\n",
    "        print(f\"loop stopped at:{i}\")\n",
    "        break\n",
    "    print(i)\n",
    "else:\n",
    "    print(\"Loop completed all the step\")"
   ]
  },
  {
   "cell_type": "code",
   "execution_count": 2,
   "metadata": {},
   "outputs": [
    {
     "name": "stdout",
     "output_type": "stream",
     "text": [
      "21\n"
     ]
    }
   ],
   "source": [
    "#Sum of all the Digit\n",
    "num=int(input(\"Enter the Number\"))\n",
    "total=0\n",
    "while(num>0):\n",
    "    total+=num%10\n",
    "    num=num//10\n",
    "print(total)\n"
   ]
  },
  {
   "cell_type": "code",
   "execution_count": 3,
   "metadata": {},
   "outputs": [
    {
     "data": {
      "text/plain": [
       "315"
      ]
     },
     "execution_count": 3,
     "metadata": {},
     "output_type": "execute_result"
    }
   ],
   "source": [
    "sum([14,5,67,76,54,35,64])"
   ]
  },
  {
   "cell_type": "code",
   "execution_count": null,
   "metadata": {},
   "outputs": [],
   "source": [
    "\n"
   ]
  }
 ],
 "metadata": {
  "kernelspec": {
   "display_name": "Python 3",
   "language": "python",
   "name": "python3"
  },
  "language_info": {
   "codemirror_mode": {
    "name": "ipython",
    "version": 3
   },
   "file_extension": ".py",
   "mimetype": "text/x-python",
   "name": "python",
   "nbconvert_exporter": "python",
   "pygments_lexer": "ipython3",
   "version": "3.12.3"
  }
 },
 "nbformat": 4,
 "nbformat_minor": 2
}
